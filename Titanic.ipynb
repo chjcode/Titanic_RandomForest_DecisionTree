{
  "metadata": {
    "kernelspec": {
      "language": "python",
      "display_name": "Python 3",
      "name": "python3"
    },
    "language_info": {
      "name": "python",
      "version": "3.7.12",
      "mimetype": "text/x-python",
      "codemirror_mode": {
        "name": "ipython",
        "version": 3
      },
      "pygments_lexer": "ipython3",
      "nbconvert_exporter": "python",
      "file_extension": ".py"
    },
    "colab": {
      "name": "Titanic",
      "provenance": []
    }
  },
  "nbformat_minor": 0,
  "nbformat": 4,
  "cells": [
    {
      "cell_type": "code",
      "source": [
        "import pandas as pd\n",
        "import seaborn as sns\n",
        "import matplotlib.pyplot as plt\n",
        "%matplotlib inline"
      ],
      "metadata": {
        "id": "MEvI6JglgXBQ",
        "execution": {
          "iopub.status.busy": "2022-06-06T17:41:01.141174Z",
          "iopub.execute_input": "2022-06-06T17:41:01.141690Z",
          "iopub.status.idle": "2022-06-06T17:41:01.931073Z",
          "shell.execute_reply.started": "2022-06-06T17:41:01.141596Z",
          "shell.execute_reply": "2022-06-06T17:41:01.929729Z"
        },
        "trusted": true
      },
      "execution_count": null,
      "outputs": []
    },
    {
      "cell_type": "code",
      "source": [
        "df_train = pd.read_csv('../input/titanic/train.csv')\n",
        "df_test = pd.read_csv('../input/titanic/test.csv')\n",
        "df_test1 = pd.read_csv('../input/titanic/test.csv')"
      ],
      "metadata": {
        "id": "H5YCdl75GjKP",
        "execution": {
          "iopub.status.busy": "2022-06-06T17:41:01.932992Z",
          "iopub.execute_input": "2022-06-06T17:41:01.933975Z",
          "iopub.status.idle": "2022-06-06T17:41:01.973526Z",
          "shell.execute_reply.started": "2022-06-06T17:41:01.933936Z",
          "shell.execute_reply": "2022-06-06T17:41:01.972628Z"
        },
        "trusted": true
      },
      "execution_count": null,
      "outputs": []
    },
    {
      "cell_type": "code",
      "source": [
        "#Age에서 나이의 평균값을 구할 때 쓰기 위해 train, test 합친 데이터프레임 생성\n",
        "df = pd.concat([df_train,df_test])"
      ],
      "metadata": {
        "id": "3QD353ixErrU",
        "execution": {
          "iopub.status.busy": "2022-06-06T17:41:01.975354Z",
          "iopub.execute_input": "2022-06-06T17:41:01.975962Z",
          "iopub.status.idle": "2022-06-06T17:41:01.995542Z",
          "shell.execute_reply.started": "2022-06-06T17:41:01.975917Z",
          "shell.execute_reply": "2022-06-06T17:41:01.994483Z"
        },
        "trusted": true
      },
      "execution_count": null,
      "outputs": []
    },
    {
      "cell_type": "markdown",
      "source": [
        "# Data"
      ],
      "metadata": {
        "id": "3pGHPGog7BXa"
      }
    },
    {
      "cell_type": "code",
      "source": [
        "df_train.head()"
      ],
      "metadata": {
        "id": "BiuLrEYcfUXg",
        "execution": {
          "iopub.status.busy": "2022-06-06T17:41:01.998604Z",
          "iopub.execute_input": "2022-06-06T17:41:01.999687Z",
          "iopub.status.idle": "2022-06-06T17:41:02.030785Z",
          "shell.execute_reply.started": "2022-06-06T17:41:01.999628Z",
          "shell.execute_reply": "2022-06-06T17:41:02.029209Z"
        },
        "trusted": true
      },
      "execution_count": null,
      "outputs": []
    },
    {
      "cell_type": "code",
      "source": [
        "df_test.head()"
      ],
      "metadata": {
        "id": "w7YCnWxG3yxt",
        "execution": {
          "iopub.status.busy": "2022-06-06T17:41:02.032679Z",
          "iopub.execute_input": "2022-06-06T17:41:02.033189Z",
          "iopub.status.idle": "2022-06-06T17:41:02.053609Z",
          "shell.execute_reply.started": "2022-06-06T17:41:02.033142Z",
          "shell.execute_reply": "2022-06-06T17:41:02.052739Z"
        },
        "trusted": true
      },
      "execution_count": null,
      "outputs": []
    },
    {
      "cell_type": "code",
      "source": [
        "# train데이터 요약정보\n",
        "print(df_train.info())"
      ],
      "metadata": {
        "id": "6nM0iJL7i-XQ",
        "execution": {
          "iopub.status.busy": "2022-06-06T17:41:02.055085Z",
          "iopub.execute_input": "2022-06-06T17:41:02.055640Z",
          "iopub.status.idle": "2022-06-06T17:41:02.080022Z",
          "shell.execute_reply.started": "2022-06-06T17:41:02.055604Z",
          "shell.execute_reply": "2022-06-06T17:41:02.079034Z"
        },
        "trusted": true
      },
      "execution_count": null,
      "outputs": []
    },
    {
      "cell_type": "code",
      "source": [
        "# test데이터 요약정보\n",
        "print(df_test.info())"
      ],
      "metadata": {
        "id": "UVBvwvhTLHv3",
        "execution": {
          "iopub.status.busy": "2022-06-06T17:41:02.082072Z",
          "iopub.execute_input": "2022-06-06T17:41:02.082558Z",
          "iopub.status.idle": "2022-06-06T17:41:02.102485Z",
          "shell.execute_reply.started": "2022-06-06T17:41:02.082519Z",
          "shell.execute_reply": "2022-06-06T17:41:02.101428Z"
        },
        "trusted": true
      },
      "execution_count": null,
      "outputs": []
    },
    {
      "cell_type": "markdown",
      "source": [
        "survived : 생존 = 1, 죽음 = 0\n",
        "\n",
        "pclass : 객실 등급(1등급 = 1, 2등급 = 2, 3등급 =3)\n",
        "\n",
        "sibsp : 함께 탑승한 형제 또는 배우자 수\n",
        "\n",
        "parch : 함께 탑승한 부모 또는 자녀 수\n",
        "\n",
        "ticket : 티켓 번호\n",
        "\n",
        "cabin : 선실 번호\n",
        "\n",
        "embarked : 탑승장소(S = Southhampton, C = Cherbourg, Q = Queenstown)"
      ],
      "metadata": {
        "id": "Xv0-jZZLlUxP"
      }
    },
    {
      "cell_type": "code",
      "source": [
        "# train데이터의 null 확인\n",
        "df_train.isnull().sum()"
      ],
      "metadata": {
        "id": "TL1Fgy1rmdQr",
        "execution": {
          "iopub.status.busy": "2022-06-06T17:41:02.106286Z",
          "iopub.execute_input": "2022-06-06T17:41:02.106677Z",
          "iopub.status.idle": "2022-06-06T17:41:02.118314Z",
          "shell.execute_reply.started": "2022-06-06T17:41:02.106644Z",
          "shell.execute_reply": "2022-06-06T17:41:02.117136Z"
        },
        "trusted": true
      },
      "execution_count": null,
      "outputs": []
    },
    {
      "cell_type": "code",
      "source": [
        "# test데이터의 null 확인\n",
        "df_train.describe()"
      ],
      "metadata": {
        "id": "khwPIumEnx2F",
        "execution": {
          "iopub.status.busy": "2022-06-06T17:41:02.119817Z",
          "iopub.execute_input": "2022-06-06T17:41:02.120691Z",
          "iopub.status.idle": "2022-06-06T17:41:02.160844Z",
          "shell.execute_reply.started": "2022-06-06T17:41:02.120644Z",
          "shell.execute_reply": "2022-06-06T17:41:02.159933Z"
        },
        "trusted": true
      },
      "execution_count": null,
      "outputs": []
    },
    {
      "cell_type": "markdown",
      "source": [
        "# 1. Name"
      ],
      "metadata": {
        "id": "n-COLQ8PGS0O"
      }
    },
    {
      "cell_type": "code",
      "source": [
        "df_train.head()"
      ],
      "metadata": {
        "execution": {
          "iopub.status.busy": "2022-06-06T17:41:02.163684Z",
          "iopub.execute_input": "2022-06-06T17:41:02.164194Z",
          "iopub.status.idle": "2022-06-06T17:41:02.183755Z",
          "shell.execute_reply.started": "2022-06-06T17:41:02.164160Z",
          "shell.execute_reply": "2022-06-06T17:41:02.182809Z"
        },
        "trusted": true,
        "id": "mgZbAdRm7BXe"
      },
      "execution_count": null,
      "outputs": []
    },
    {
      "cell_type": "code",
      "source": [
        "# 문자열을 쪼개주는 split을 이용하여 성별, 호칭, 직업을 담은 정보만 정제\n",
        "def split_initial(row):\n",
        "  return row.split(',')[1].split('.')[0].strip()"
      ],
      "metadata": {
        "id": "t8h2qrbKGWjm",
        "execution": {
          "iopub.status.busy": "2022-06-06T17:41:02.185429Z",
          "iopub.execute_input": "2022-06-06T17:41:02.185946Z",
          "iopub.status.idle": "2022-06-06T17:41:02.191236Z",
          "shell.execute_reply.started": "2022-06-06T17:41:02.185911Z",
          "shell.execute_reply": "2022-06-06T17:41:02.190363Z"
        },
        "trusted": true
      },
      "execution_count": null,
      "outputs": []
    },
    {
      "cell_type": "code",
      "source": [
        "#풀네임을 이니셜로 대체(trian데이터)\n",
        "df['Name'] = df['Name'].apply(split_initial)\n",
        "df_train['Name'] = df_train['Name'].apply(split_initial)\n",
        "df_train.head()"
      ],
      "metadata": {
        "id": "aiKCBAOUI9sT",
        "execution": {
          "iopub.status.busy": "2022-06-06T17:41:02.192922Z",
          "iopub.execute_input": "2022-06-06T17:41:02.193458Z",
          "iopub.status.idle": "2022-06-06T17:41:02.226038Z",
          "shell.execute_reply.started": "2022-06-06T17:41:02.193423Z",
          "shell.execute_reply": "2022-06-06T17:41:02.224741Z"
        },
        "trusted": true
      },
      "execution_count": null,
      "outputs": []
    },
    {
      "cell_type": "code",
      "source": [
        "#풀네임을 이니셜로 대체(test데이터)\n",
        "df_test['Name'] = df_test['Name'].apply(split_initial)\n",
        "df_test.head()"
      ],
      "metadata": {
        "id": "0vwRHuKvJ3dO",
        "execution": {
          "iopub.status.busy": "2022-06-06T17:41:02.227572Z",
          "iopub.execute_input": "2022-06-06T17:41:02.227972Z",
          "iopub.status.idle": "2022-06-06T17:41:02.255676Z",
          "shell.execute_reply.started": "2022-06-06T17:41:02.227940Z",
          "shell.execute_reply": "2022-06-06T17:41:02.254348Z"
        },
        "trusted": true
      },
      "execution_count": null,
      "outputs": []
    },
    {
      "cell_type": "code",
      "source": [
        "#name에 들어있는 모든 이니셜 확인(train)\n",
        "df_train['Name'].unique()"
      ],
      "metadata": {
        "id": "YKDJq8U9KONE",
        "execution": {
          "iopub.status.busy": "2022-06-06T17:41:02.257482Z",
          "iopub.execute_input": "2022-06-06T17:41:02.257888Z",
          "iopub.status.idle": "2022-06-06T17:41:02.265535Z",
          "shell.execute_reply.started": "2022-06-06T17:41:02.257853Z",
          "shell.execute_reply": "2022-06-06T17:41:02.264327Z"
        },
        "trusted": true
      },
      "execution_count": null,
      "outputs": []
    },
    {
      "cell_type": "code",
      "source": [
        "#name에 들어있는 모든 이니셜 확인(test)\n",
        "df_test['Name'].unique()"
      ],
      "metadata": {
        "execution": {
          "iopub.status.busy": "2022-06-06T17:41:02.266918Z",
          "iopub.execute_input": "2022-06-06T17:41:02.267768Z",
          "iopub.status.idle": "2022-06-06T17:41:02.284348Z",
          "shell.execute_reply.started": "2022-06-06T17:41:02.267734Z",
          "shell.execute_reply": "2022-06-06T17:41:02.282912Z"
        },
        "trusted": true,
        "id": "SQBXKJOr7BXf"
      },
      "execution_count": null,
      "outputs": []
    },
    {
      "cell_type": "code",
      "source": [
        "#너무 많은 이니셜을 Miss, Mr, Mrs, Master, Other로 대체\n",
        "df['Name'].replace(['Master','Mlle','Mme','Ms','Dr','Major','Lady','the Countess','Jonkheer','Col','Rev','Capt','Sir','Don', 'Dona'],\n",
        "                        ['Master','Miss','Miss','Miss','Mr','Mr','Mrs','Mrs','Other','Other','Other','Mr','Mr','Mr', 'Mr'],inplace=True)\n",
        "df_train['Name'].replace(['Master','Mlle','Mme','Ms','Dr','Major','Lady','the Countess','Jonkheer','Col','Rev','Capt','Sir','Don', 'Dona'],\n",
        "                        ['Master','Miss','Miss','Miss','Mr','Mr','Mrs','Mrs','Other','Other','Other','Mr','Mr','Mr', 'Mr'],inplace=True)\n",
        "df_test['Name'].replace(['Master','Mlle','Mme','Ms','Dr','Major','Lady','the Countess','Jonkheer','Col','Rev','Capt','Sir','Don', 'Dona'],\n",
        "                        ['Master','Miss','Miss','Miss','Mr','Mr','Mrs','Mrs','Other','Other','Other','Mr','Mr','Mr', 'Mr'],inplace=True)\n",
        "\n",
        "\n",
        "#잘 바뀌었는지 확인\n",
        "print(df_train['Name'].unique())\n",
        "print(df_test['Name'].unique())"
      ],
      "metadata": {
        "id": "F0rQjNj2W3Ht",
        "execution": {
          "iopub.status.busy": "2022-06-06T17:41:02.285552Z",
          "iopub.execute_input": "2022-06-06T17:41:02.286254Z",
          "iopub.status.idle": "2022-06-06T17:41:02.309472Z",
          "shell.execute_reply.started": "2022-06-06T17:41:02.286220Z",
          "shell.execute_reply": "2022-06-06T17:41:02.307793Z"
        },
        "trusted": true
      },
      "execution_count": null,
      "outputs": []
    },
    {
      "cell_type": "code",
      "source": [
        "#학습을 위해 이니셜을 숫자로 바꿈\n",
        "df['Name'] = df_train['Name'].map({'Mr':0, 'Mrs':1, 'Miss':2, 'Master':3, 'Other':4})\n",
        "df_train['Name'] = df_train['Name'].map({'Mr':0, 'Mrs':1, 'Miss':2, 'Master':3, 'Other':4})\n",
        "df_test['Name'] = df_test['Name'].map({'Mr':0, 'Mrs':1, 'Miss':2, 'Master':3, 'Other':4})"
      ],
      "metadata": {
        "id": "-VO8dh7chte5",
        "execution": {
          "iopub.status.busy": "2022-06-06T17:41:02.310851Z",
          "iopub.execute_input": "2022-06-06T17:41:02.311232Z",
          "iopub.status.idle": "2022-06-06T17:41:02.326858Z",
          "shell.execute_reply.started": "2022-06-06T17:41:02.311199Z",
          "shell.execute_reply": "2022-06-06T17:41:02.325687Z"
        },
        "trusted": true
      },
      "execution_count": null,
      "outputs": []
    },
    {
      "cell_type": "code",
      "source": [
        "#잘 바뀌었는지 확인\n",
        "print(df_train['Name'].unique())\n",
        "print(df_test['Name'].unique())"
      ],
      "metadata": {
        "id": "8EI8QkxTZREJ",
        "execution": {
          "iopub.status.busy": "2022-06-06T17:41:02.328816Z",
          "iopub.execute_input": "2022-06-06T17:41:02.329206Z",
          "iopub.status.idle": "2022-06-06T17:41:02.346011Z",
          "shell.execute_reply.started": "2022-06-06T17:41:02.329173Z",
          "shell.execute_reply": "2022-06-06T17:41:02.344943Z"
        },
        "trusted": true
      },
      "execution_count": null,
      "outputs": []
    },
    {
      "cell_type": "markdown",
      "source": [
        "# 2. Sex"
      ],
      "metadata": {
        "id": "Dm7ITxlCqoRv"
      }
    },
    {
      "cell_type": "code",
      "source": [
        "df['Sex'] = df['Sex'].map({'male' : 0, 'female' : 1}) #남성은 0, 여성은 1로 변경\n",
        "df_train['Sex'] = df_train['Sex'].map({'male' : 0, 'female' : 1}) #남성은 0, 여성은 1로 변경\n",
        "df_test['Sex'] = df_test['Sex'].map({'male' : 0, 'female' : 1}) #남성은 0, 여성은 1로 변경"
      ],
      "metadata": {
        "id": "gNTbTYOCqqQb",
        "execution": {
          "iopub.status.busy": "2022-06-06T17:41:02.348046Z",
          "iopub.execute_input": "2022-06-06T17:41:02.348914Z",
          "iopub.status.idle": "2022-06-06T17:41:02.367300Z",
          "shell.execute_reply.started": "2022-06-06T17:41:02.348863Z",
          "shell.execute_reply": "2022-06-06T17:41:02.366416Z"
        },
        "trusted": true
      },
      "execution_count": null,
      "outputs": []
    },
    {
      "cell_type": "markdown",
      "source": [
        "# 3. Age\n"
      ],
      "metadata": {
        "id": "Q57D9DL-gulO"
      }
    },
    {
      "cell_type": "code",
      "source": [
        "#상관관계 확인\n",
        "sns.heatmap(df_train.corr(),cmap = 'YlGn', annot=True)  #상관관계 시각화\n",
        "#age, name, pclass, sibsp, parch간에 음의 상관관계가 있음을 알 수 있다."
      ],
      "metadata": {
        "id": "wc8ha1-mqCE1",
        "execution": {
          "iopub.status.busy": "2022-06-06T17:41:02.368496Z",
          "iopub.execute_input": "2022-06-06T17:41:02.369603Z",
          "iopub.status.idle": "2022-06-06T17:41:03.073949Z",
          "shell.execute_reply.started": "2022-06-06T17:41:02.369567Z",
          "shell.execute_reply": "2022-06-06T17:41:03.072611Z"
        },
        "trusted": true
      },
      "execution_count": null,
      "outputs": []
    },
    {
      "cell_type": "code",
      "source": [
        "# Pclass 별 나이 평균\n",
        "df_train[df_train['Age'].notnull()].groupby(['Pclass'])['Age'].mean()"
      ],
      "metadata": {
        "id": "Q3t-e7jwfAQS",
        "execution": {
          "iopub.status.busy": "2022-06-06T17:41:03.076085Z",
          "iopub.execute_input": "2022-06-06T17:41:03.076751Z",
          "iopub.status.idle": "2022-06-06T17:41:03.092198Z",
          "shell.execute_reply.started": "2022-06-06T17:41:03.076698Z",
          "shell.execute_reply": "2022-06-06T17:41:03.091257Z"
        },
        "trusted": true
      },
      "execution_count": null,
      "outputs": []
    },
    {
      "cell_type": "code",
      "source": [
        "# Age와 가장 상관관계가 큰 Name으로 Age의 평균값구하기\n",
        "#(Pclass는 상관관계가 가장 컸지만 나뉜 개수가 적어서 Name이 결과가 더 좋았음)\n",
        "df[df['Age'].notnull()].groupby(['Name'])['Age'].mean()"
      ],
      "metadata": {
        "id": "ncOzA2lllkie",
        "execution": {
          "iopub.status.busy": "2022-06-06T17:41:03.093720Z",
          "iopub.execute_input": "2022-06-06T17:41:03.094658Z",
          "iopub.status.idle": "2022-06-06T17:41:03.108643Z",
          "shell.execute_reply.started": "2022-06-06T17:41:03.094620Z",
          "shell.execute_reply": "2022-06-06T17:41:03.107471Z"
        },
        "trusted": true
      },
      "execution_count": null,
      "outputs": []
    },
    {
      "cell_type": "code",
      "source": [
        "# Age 결측값 Name별 평균값으로 채우기(train)\n",
        "df_train.loc[(df_train['Age'].isnull()) & (df_train['Name']==3),'Age'] = 14\n",
        "df_train.loc[df_train['Age'].isnull() & (df_train['Name']==2),'Age'] = 25\n",
        "df_train.loc[df_train['Age'].isnull() & (df_train['Name']==0),'Age'] = 32\n",
        "df_train.loc[df_train['Age'].isnull() & (df_train['Name']==1),'Age'] = 34\n",
        "df_train.loc[df_train['Age'].isnull() & (df_train['Name']==4),'Age'] = 42\n",
        "\n",
        "df_train.isnull().sum()"
      ],
      "metadata": {
        "id": "-RveieWNXwWu",
        "execution": {
          "iopub.status.busy": "2022-06-06T17:41:03.110625Z",
          "iopub.execute_input": "2022-06-06T17:41:03.111433Z",
          "iopub.status.idle": "2022-06-06T17:41:03.136907Z",
          "shell.execute_reply.started": "2022-06-06T17:41:03.111385Z",
          "shell.execute_reply": "2022-06-06T17:41:03.135481Z"
        },
        "trusted": true
      },
      "execution_count": null,
      "outputs": []
    },
    {
      "cell_type": "code",
      "source": [
        "# Age 결측값 Name별 평균값으로 채우기(test)\n",
        "df_test.loc[(df_test['Age'].isnull()) & (df_test['Name']==3),'Age'] = 14\n",
        "df_test.loc[df_test['Age'].isnull() & (df_test['Name']==2),'Age'] = 25\n",
        "df_test.loc[df_test['Age'].isnull() & (df_test['Name']==0),'Age'] = 32\n",
        "df_test.loc[df_test['Age'].isnull() & (df_test['Name']==1),'Age'] = 34\n",
        "df_test.loc[df_test['Age'].isnull() & (df_test['Name']==4),'Age'] = 42\n",
        "\n",
        "df_test.isnull().sum()"
      ],
      "metadata": {
        "id": "L9dy0duA7i0j",
        "execution": {
          "iopub.status.busy": "2022-06-06T17:41:03.138499Z",
          "iopub.execute_input": "2022-06-06T17:41:03.138860Z",
          "iopub.status.idle": "2022-06-06T17:41:03.159123Z",
          "shell.execute_reply.started": "2022-06-06T17:41:03.138828Z",
          "shell.execute_reply": "2022-06-06T17:41:03.158239Z"
        },
        "trusted": true
      },
      "execution_count": null,
      "outputs": []
    },
    {
      "cell_type": "code",
      "source": [
        "#나이별 탑승자 명수를 시각화 -> 20~30이 가장 많음을 알 수 있다.\n",
        "sns.distplot(df[df['Age']>0]['Age'])\n",
        "plt.show()"
      ],
      "metadata": {
        "id": "ZSQjuIDnlCEg",
        "execution": {
          "iopub.status.busy": "2022-06-06T17:41:03.160447Z",
          "iopub.execute_input": "2022-06-06T17:41:03.161029Z",
          "iopub.status.idle": "2022-06-06T17:41:03.435079Z",
          "shell.execute_reply.started": "2022-06-06T17:41:03.160997Z",
          "shell.execute_reply": "2022-06-06T17:41:03.433674Z"
        },
        "trusted": true
      },
      "execution_count": null,
      "outputs": []
    },
    {
      "cell_type": "code",
      "source": [
        "# 위의 그래프를 바탕으로 Age 구간설정\n",
        "df_train.loc[df_train['Age']<=10,'Age_binning'] = 0\n",
        "df_train.loc[(df_train['Age']>10) & (df_train['Age'] <= 15),'Age_binning'] = 1\n",
        "df_train.loc[(df_train['Age']>15) & (df_train['Age'] <= 20),'Age_binning'] = 2\n",
        "df_train.loc[(df_train['Age']>20) & (df_train['Age'] <= 25),'Age_binning'] = 3\n",
        "df_train.loc[(df_train['Age']>25) & (df_train['Age'] <= 30),'Age_binning'] = 4\n",
        "df_train.loc[(df_train['Age']>30) & (df_train['Age'] <= 40),'Age_binning'] = 5\n",
        "df_train.loc[(df_train['Age']>40) & (df_train['Age'] <= 50),'Age_binning'] = 6\n",
        "df_train.loc[(df_train['Age']>50) & (df_train['Age'] <= 60),'Age_binning'] = 7\n",
        "df_train.loc[df_train['Age']>60,'Age_binning'] = 8\n",
        "\n",
        "print(df_train.head())\n",
        "\n",
        "df_test.loc[df_test['Age']<=10,'Age_binning'] = 0\n",
        "df_test.loc[(df_test['Age']>10) & (df_test['Age'] <= 15),'Age_binning'] = 1\n",
        "df_test.loc[(df_test['Age']>15) & (df_test['Age'] <= 20),'Age_binning'] = 2\n",
        "df_test.loc[(df_test['Age']>20) & (df_test['Age'] <= 25),'Age_binning'] = 3\n",
        "df_test.loc[(df_test['Age']>25) & (df_test['Age'] <= 30),'Age_binning'] = 4\n",
        "df_test.loc[(df_test['Age']>30) & (df_test['Age'] <= 40),'Age_binning'] = 5\n",
        "df_test.loc[(df_test['Age']>40) & (df_test['Age'] <= 50),'Age_binning'] = 6\n",
        "df_test.loc[(df_test['Age']>50) & (df_test['Age'] <= 60),'Age_binning'] = 7\n",
        "df_test.loc[df_test['Age']>60,'Age_binning'] = 8\n",
        "\n",
        "df_test.head()"
      ],
      "metadata": {
        "id": "46DBl7-3q-Rw",
        "execution": {
          "iopub.status.busy": "2022-06-06T17:41:03.437149Z",
          "iopub.execute_input": "2022-06-06T17:41:03.437725Z",
          "iopub.status.idle": "2022-06-06T17:41:03.506625Z",
          "shell.execute_reply.started": "2022-06-06T17:41:03.437675Z",
          "shell.execute_reply": "2022-06-06T17:41:03.505691Z"
        },
        "trusted": true
      },
      "execution_count": null,
      "outputs": []
    },
    {
      "cell_type": "markdown",
      "source": [
        "# 4. FamilySize"
      ],
      "metadata": {
        "id": "TqyNKEjNJavB"
      }
    },
    {
      "cell_type": "code",
      "source": [
        "#FamilySize column을 새로 만들고 SibSp와 Parch를 합치고 본인을 더해 넣어줌\n",
        "df_train[\"FamilySize\"] = df_train[\"SibSp\"] + df_train[\"Parch\"] + 1\n",
        "df_test[\"FamilySize\"] = df_test[\"SibSp\"] + df_test[\"Parch\"] + 1"
      ],
      "metadata": {
        "id": "ihTVQfgZJfFm",
        "execution": {
          "iopub.status.busy": "2022-06-06T17:41:03.508307Z",
          "iopub.execute_input": "2022-06-06T17:41:03.509133Z",
          "iopub.status.idle": "2022-06-06T17:41:03.517291Z",
          "shell.execute_reply.started": "2022-06-06T17:41:03.509092Z",
          "shell.execute_reply": "2022-06-06T17:41:03.516318Z"
        },
        "trusted": true
      },
      "execution_count": null,
      "outputs": []
    },
    {
      "cell_type": "code",
      "source": [
        "df_train.head()"
      ],
      "metadata": {
        "id": "zGrrY4jrKian",
        "execution": {
          "iopub.status.busy": "2022-06-06T17:41:03.522231Z",
          "iopub.execute_input": "2022-06-06T17:41:03.522674Z",
          "iopub.status.idle": "2022-06-06T17:41:03.547700Z",
          "shell.execute_reply.started": "2022-06-06T17:41:03.522641Z",
          "shell.execute_reply": "2022-06-06T17:41:03.546742Z"
        },
        "trusted": true
      },
      "execution_count": null,
      "outputs": []
    },
    {
      "cell_type": "code",
      "source": [
        "df_test.head()"
      ],
      "metadata": {
        "id": "Og6-mebfKms_",
        "execution": {
          "iopub.status.busy": "2022-06-06T17:41:03.549228Z",
          "iopub.execute_input": "2022-06-06T17:41:03.549709Z",
          "iopub.status.idle": "2022-06-06T17:41:03.576619Z",
          "shell.execute_reply.started": "2022-06-06T17:41:03.549665Z",
          "shell.execute_reply": "2022-06-06T17:41:03.575432Z"
        },
        "trusted": true
      },
      "execution_count": null,
      "outputs": []
    },
    {
      "cell_type": "markdown",
      "source": [
        "# 5. Cabin"
      ],
      "metadata": {
        "id": "p794ycg2AoVh"
      }
    },
    {
      "cell_type": "code",
      "source": [
        "#결측값이 너무 많아 drop\n",
        "df_train = df_train.drop('Cabin',axis=1)\n",
        "df_test = df_test.drop('Cabin',axis=1)"
      ],
      "metadata": {
        "id": "09YR1FYRMxY-",
        "execution": {
          "iopub.status.busy": "2022-06-06T17:41:03.578801Z",
          "iopub.execute_input": "2022-06-06T17:41:03.579322Z",
          "iopub.status.idle": "2022-06-06T17:41:03.588140Z",
          "shell.execute_reply.started": "2022-06-06T17:41:03.579254Z",
          "shell.execute_reply": "2022-06-06T17:41:03.587264Z"
        },
        "trusted": true
      },
      "execution_count": null,
      "outputs": []
    },
    {
      "cell_type": "code",
      "source": [
        "df_train.head()"
      ],
      "metadata": {
        "id": "MqNDU0Rgn4wJ",
        "execution": {
          "iopub.status.busy": "2022-06-06T17:41:03.591929Z",
          "iopub.execute_input": "2022-06-06T17:41:03.593629Z",
          "iopub.status.idle": "2022-06-06T17:41:03.613972Z",
          "shell.execute_reply.started": "2022-06-06T17:41:03.593560Z",
          "shell.execute_reply": "2022-06-06T17:41:03.612880Z"
        },
        "trusted": true
      },
      "execution_count": null,
      "outputs": []
    },
    {
      "cell_type": "code",
      "source": [
        "df_test.head()"
      ],
      "metadata": {
        "id": "dCVADDZd9sCt",
        "execution": {
          "iopub.status.busy": "2022-06-06T17:41:03.615844Z",
          "iopub.execute_input": "2022-06-06T17:41:03.616710Z",
          "iopub.status.idle": "2022-06-06T17:41:03.636320Z",
          "shell.execute_reply.started": "2022-06-06T17:41:03.616663Z",
          "shell.execute_reply": "2022-06-06T17:41:03.635289Z"
        },
        "trusted": true
      },
      "execution_count": null,
      "outputs": []
    },
    {
      "cell_type": "markdown",
      "source": [
        "# 6. Embarked\n",
        "\n",
        "'S' : 0, 'Q' : 1, 'C': 2"
      ],
      "metadata": {
        "id": "6aqQr87kBN8D"
      }
    },
    {
      "cell_type": "code",
      "source": [
        "#Embarked의 결측값을 채우기 위해 다른 column에 대한 정보 확인\n",
        "df_train[df_train['Embarked'].isnull()]"
      ],
      "metadata": {
        "id": "KNCK-JqtBFVv",
        "execution": {
          "iopub.status.busy": "2022-06-06T17:41:03.637795Z",
          "iopub.execute_input": "2022-06-06T17:41:03.638901Z",
          "iopub.status.idle": "2022-06-06T17:41:03.660955Z",
          "shell.execute_reply.started": "2022-06-06T17:41:03.638848Z",
          "shell.execute_reply": "2022-06-06T17:41:03.660109Z"
        },
        "trusted": true
      },
      "execution_count": null,
      "outputs": []
    },
    {
      "cell_type": "code",
      "source": [
        "df_test[df_test['Embarked'].isnull()]"
      ],
      "metadata": {
        "id": "QBXcpiF996Hr",
        "execution": {
          "iopub.status.busy": "2022-06-06T17:41:03.662918Z",
          "iopub.execute_input": "2022-06-06T17:41:03.663328Z",
          "iopub.status.idle": "2022-06-06T17:41:03.685484Z",
          "shell.execute_reply.started": "2022-06-06T17:41:03.663248Z",
          "shell.execute_reply": "2022-06-06T17:41:03.684639Z"
        },
        "trusted": true
      },
      "execution_count": null,
      "outputs": []
    },
    {
      "cell_type": "code",
      "source": [
        "df['Embarked'].value_counts()"
      ],
      "metadata": {
        "execution": {
          "iopub.status.busy": "2022-06-06T17:41:03.686762Z",
          "iopub.execute_input": "2022-06-06T17:41:03.688006Z",
          "iopub.status.idle": "2022-06-06T17:41:03.704212Z",
          "shell.execute_reply.started": "2022-06-06T17:41:03.687954Z",
          "shell.execute_reply": "2022-06-06T17:41:03.703457Z"
        },
        "trusted": true,
        "id": "JLuvMNsx7BXj"
      },
      "execution_count": null,
      "outputs": []
    },
    {
      "cell_type": "code",
      "source": [
        "#두 사람 모두 fare도 애매하고 sibsp, parch도 없기 때문에 추측하기 힘들어 빈도수 높은 S로 넣음\n",
        "#(범주형 데이터의 결측치는 데이터의 수가 많은 클래스에 포함시키는 것이 좋다\n",
        "#결측값 'S'로 채우기\n",
        "df_train['Embarked'].fillna('S',inplace = True)"
      ],
      "metadata": {
        "id": "C8YdkFxRCFzI",
        "execution": {
          "iopub.status.busy": "2022-06-06T17:41:03.705344Z",
          "iopub.execute_input": "2022-06-06T17:41:03.706568Z",
          "iopub.status.idle": "2022-06-06T17:41:03.716419Z",
          "shell.execute_reply.started": "2022-06-06T17:41:03.706528Z",
          "shell.execute_reply": "2022-06-06T17:41:03.715437Z"
        },
        "trusted": true
      },
      "execution_count": null,
      "outputs": []
    },
    {
      "cell_type": "code",
      "source": [
        "df_train.isnull().sum()"
      ],
      "metadata": {
        "id": "-wfYM8ocqA79",
        "execution": {
          "iopub.status.busy": "2022-06-06T17:41:03.717587Z",
          "iopub.execute_input": "2022-06-06T17:41:03.717945Z",
          "iopub.status.idle": "2022-06-06T17:41:03.741916Z",
          "shell.execute_reply.started": "2022-06-06T17:41:03.717915Z",
          "shell.execute_reply": "2022-06-06T17:41:03.741074Z"
        },
        "trusted": true
      },
      "execution_count": null,
      "outputs": []
    },
    {
      "cell_type": "code",
      "source": [
        "#문자열 숫자로 매핑\n",
        "df_train['Embarked'] = df_train['Embarked'].map({'S' : 0, 'Q' : 1, 'C': 2})\n",
        "df_test['Embarked'] = df_test['Embarked'].map({'S' : 0, 'Q' : 1, 'C': 2})"
      ],
      "metadata": {
        "id": "QE1ZOmZTDqmy",
        "execution": {
          "iopub.status.busy": "2022-06-06T17:41:03.742905Z",
          "iopub.execute_input": "2022-06-06T17:41:03.743582Z",
          "iopub.status.idle": "2022-06-06T17:41:03.757819Z",
          "shell.execute_reply.started": "2022-06-06T17:41:03.743549Z",
          "shell.execute_reply": "2022-06-06T17:41:03.756469Z"
        },
        "trusted": true
      },
      "execution_count": null,
      "outputs": []
    },
    {
      "cell_type": "code",
      "source": [
        "df_train.head()"
      ],
      "metadata": {
        "id": "qzXyqamFpTki",
        "execution": {
          "iopub.status.busy": "2022-06-06T17:41:03.759493Z",
          "iopub.execute_input": "2022-06-06T17:41:03.760158Z",
          "iopub.status.idle": "2022-06-06T17:41:03.785620Z",
          "shell.execute_reply.started": "2022-06-06T17:41:03.760115Z",
          "shell.execute_reply": "2022-06-06T17:41:03.784696Z"
        },
        "trusted": true
      },
      "execution_count": null,
      "outputs": []
    },
    {
      "cell_type": "markdown",
      "source": [
        "# 7. Ticket"
      ],
      "metadata": {
        "id": "ua3CCg6Jtn2B"
      }
    },
    {
      "cell_type": "code",
      "source": [
        "df_train = df_train.drop('Ticket',axis=1)\n",
        "df_test = df_test.drop('Ticket',axis=1)"
      ],
      "metadata": {
        "id": "_MZOrLCrtqdq",
        "execution": {
          "iopub.status.busy": "2022-06-06T17:41:03.786830Z",
          "iopub.execute_input": "2022-06-06T17:41:03.787797Z",
          "iopub.status.idle": "2022-06-06T17:41:03.801126Z",
          "shell.execute_reply.started": "2022-06-06T17:41:03.787759Z",
          "shell.execute_reply": "2022-06-06T17:41:03.800414Z"
        },
        "trusted": true
      },
      "execution_count": null,
      "outputs": []
    },
    {
      "cell_type": "code",
      "source": [
        "df_train.head()"
      ],
      "metadata": {
        "id": "9HuWBnW2tzqB",
        "execution": {
          "iopub.status.busy": "2022-06-06T17:41:03.802814Z",
          "iopub.execute_input": "2022-06-06T17:41:03.803438Z",
          "iopub.status.idle": "2022-06-06T17:41:03.828787Z",
          "shell.execute_reply.started": "2022-06-06T17:41:03.803393Z",
          "shell.execute_reply": "2022-06-06T17:41:03.827590Z"
        },
        "trusted": true
      },
      "execution_count": null,
      "outputs": []
    },
    {
      "cell_type": "markdown",
      "source": [
        "# 8. Fare"
      ],
      "metadata": {
        "id": "Mh8DmftIvosl"
      }
    },
    {
      "cell_type": "code",
      "source": [
        "#결측값 확인\n",
        "print(df_train['Fare'].isnull().sum())\n",
        "print(df_test['Fare'].isnull().sum())"
      ],
      "metadata": {
        "execution": {
          "iopub.status.busy": "2022-06-06T17:41:03.830517Z",
          "iopub.execute_input": "2022-06-06T17:41:03.831126Z",
          "iopub.status.idle": "2022-06-06T17:41:03.847184Z",
          "shell.execute_reply.started": "2022-06-06T17:41:03.831089Z",
          "shell.execute_reply": "2022-06-06T17:41:03.845912Z"
        },
        "trusted": true,
        "id": "OVeQK2QC7BXj"
      },
      "execution_count": null,
      "outputs": []
    },
    {
      "cell_type": "code",
      "source": [
        "#결측값이 하나 밖에 없으므로 중위값으로 대체\n",
        "df_test[\"Fare\"].fillna(df_test.groupby(\"Pclass\")[\"Fare\"].transform(\"median\"), inplace=True)"
      ],
      "metadata": {
        "id": "2qqzTCND_y0d",
        "execution": {
          "iopub.status.busy": "2022-06-06T17:41:03.848761Z",
          "iopub.execute_input": "2022-06-06T17:41:03.849205Z",
          "iopub.status.idle": "2022-06-06T17:41:03.863020Z",
          "shell.execute_reply.started": "2022-06-06T17:41:03.849159Z",
          "shell.execute_reply": "2022-06-06T17:41:03.861034Z"
        },
        "trusted": true
      },
      "execution_count": null,
      "outputs": []
    },
    {
      "cell_type": "code",
      "source": [
        "#결측값 확인\n",
        "print(df_train['Fare'].isnull().sum())\n",
        "print(df_test['Fare'].isnull().sum())"
      ],
      "metadata": {
        "id": "XWLcs5Axvqlm",
        "execution": {
          "iopub.status.busy": "2022-06-06T17:41:03.864414Z",
          "iopub.execute_input": "2022-06-06T17:41:03.865853Z",
          "iopub.status.idle": "2022-06-06T17:41:03.879639Z",
          "shell.execute_reply.started": "2022-06-06T17:41:03.865795Z",
          "shell.execute_reply": "2022-06-06T17:41:03.878550Z"
        },
        "trusted": true
      },
      "execution_count": null,
      "outputs": []
    },
    {
      "cell_type": "code",
      "source": [
        "#Fare 구간화\n",
        "df_train.loc[df_train['Fare'] <= 10, 'Fare'] = 0\n",
        "df_train.loc[(df_train['Fare'] > 10) & (df_train['Fare'] <= 30), 'Fare'] = 1\n",
        "df_train.loc[(df_train['Fare'] > 30) & (df_train['Fare'] <= 100), 'Fare'] = 2\n",
        "df_train.loc[df_train['Fare'] > 100, 'Fare'] = 3\n",
        "\n",
        "df_test.loc[df_test['Fare'] <= 10, 'Fare'] = 0\n",
        "df_test.loc[(df_test['Fare'] > 10) & (df_test['Fare'] <= 30), 'Fare'] = 1\n",
        "df_test.loc[(df_test['Fare'] > 30) & (df_test['Fare'] <= 100), 'Fare'] = 2\n",
        "df_test.loc[df_test['Fare'] > 100, 'Fare'] = 3"
      ],
      "metadata": {
        "id": "hNZHKDJ0AmH2",
        "execution": {
          "iopub.status.busy": "2022-06-06T17:41:03.880815Z",
          "iopub.execute_input": "2022-06-06T17:41:03.882180Z",
          "iopub.status.idle": "2022-06-06T17:41:03.906794Z",
          "shell.execute_reply.started": "2022-06-06T17:41:03.882133Z",
          "shell.execute_reply": "2022-06-06T17:41:03.905929Z"
        },
        "trusted": true
      },
      "execution_count": null,
      "outputs": []
    },
    {
      "cell_type": "code",
      "source": [
        "df_train.head()"
      ],
      "metadata": {
        "id": "-YnuMGZUvtsZ",
        "execution": {
          "iopub.status.busy": "2022-06-06T17:41:03.908353Z",
          "iopub.execute_input": "2022-06-06T17:41:03.909638Z",
          "iopub.status.idle": "2022-06-06T17:41:03.935322Z",
          "shell.execute_reply.started": "2022-06-06T17:41:03.909587Z",
          "shell.execute_reply": "2022-06-06T17:41:03.934256Z"
        },
        "trusted": true
      },
      "execution_count": null,
      "outputs": []
    },
    {
      "cell_type": "code",
      "source": [
        "df_train.info()"
      ],
      "metadata": {
        "id": "MIa97Bssy69G",
        "execution": {
          "iopub.status.busy": "2022-06-06T17:41:03.936934Z",
          "iopub.execute_input": "2022-06-06T17:41:03.938060Z",
          "iopub.status.idle": "2022-06-06T17:41:03.961953Z",
          "shell.execute_reply.started": "2022-06-06T17:41:03.938014Z",
          "shell.execute_reply": "2022-06-06T17:41:03.960618Z"
        },
        "trusted": true
      },
      "execution_count": null,
      "outputs": []
    },
    {
      "cell_type": "code",
      "source": [
        "df_test.head()"
      ],
      "metadata": {
        "id": "9kjwrW_nzXqM",
        "execution": {
          "iopub.status.busy": "2022-06-06T17:41:03.963430Z",
          "iopub.execute_input": "2022-06-06T17:41:03.964672Z",
          "iopub.status.idle": "2022-06-06T17:41:03.991527Z",
          "shell.execute_reply.started": "2022-06-06T17:41:03.964618Z",
          "shell.execute_reply": "2022-06-06T17:41:03.990580Z"
        },
        "trusted": true
      },
      "execution_count": null,
      "outputs": []
    },
    {
      "cell_type": "code",
      "source": [
        "df_test.info()"
      ],
      "metadata": {
        "id": "ZttKYxqpy9nb",
        "execution": {
          "iopub.status.busy": "2022-06-06T17:41:03.992784Z",
          "iopub.execute_input": "2022-06-06T17:41:03.993329Z",
          "iopub.status.idle": "2022-06-06T17:41:04.007010Z",
          "shell.execute_reply.started": "2022-06-06T17:41:03.993265Z",
          "shell.execute_reply": "2022-06-06T17:41:04.005740Z"
        },
        "trusted": true
      },
      "execution_count": null,
      "outputs": []
    },
    {
      "cell_type": "code",
      "source": [
        "df_train.head()"
      ],
      "metadata": {
        "id": "On0dHs2y-eYr",
        "execution": {
          "iopub.status.busy": "2022-06-06T17:41:04.008416Z",
          "iopub.execute_input": "2022-06-06T17:41:04.009550Z",
          "iopub.status.idle": "2022-06-06T17:41:04.029226Z",
          "shell.execute_reply.started": "2022-06-06T17:41:04.009501Z",
          "shell.execute_reply": "2022-06-06T17:41:04.028459Z"
        },
        "trusted": true
      },
      "execution_count": null,
      "outputs": []
    },
    {
      "cell_type": "markdown",
      "source": [
        "# 9. One-Hot Encoding"
      ],
      "metadata": {
        "id": "JC5euYBU7BXk"
      }
    },
    {
      "cell_type": "code",
      "source": [
        "df_train_Em = pd.get_dummies(df_train['Embarked'], prefix = 'Embarked')\n",
        "df_train = pd.concat([df_train,df_train_Em],axis=1)\n",
        "df_train.head()"
      ],
      "metadata": {
        "id": "tK__1NfWVwhw",
        "execution": {
          "iopub.status.busy": "2022-06-06T17:41:04.030816Z",
          "iopub.execute_input": "2022-06-06T17:41:04.031383Z",
          "iopub.status.idle": "2022-06-06T17:41:04.056000Z",
          "shell.execute_reply.started": "2022-06-06T17:41:04.031349Z",
          "shell.execute_reply": "2022-06-06T17:41:04.054579Z"
        },
        "trusted": true
      },
      "execution_count": null,
      "outputs": []
    },
    {
      "cell_type": "code",
      "source": [
        "df_test_Em = pd.get_dummies(df_test['Embarked'], prefix = 'Embarked')\n",
        "df_test = pd.concat([df_test,df_test_Em],axis=1)\n",
        "df_test.head()"
      ],
      "metadata": {
        "id": "7viDn2pW5nen",
        "execution": {
          "iopub.status.busy": "2022-06-06T17:41:04.057709Z",
          "iopub.execute_input": "2022-06-06T17:41:04.058182Z",
          "iopub.status.idle": "2022-06-06T17:41:04.081003Z",
          "shell.execute_reply.started": "2022-06-06T17:41:04.058147Z",
          "shell.execute_reply": "2022-06-06T17:41:04.079982Z"
        },
        "trusted": true
      },
      "execution_count": null,
      "outputs": []
    },
    {
      "cell_type": "code",
      "source": [
        "##\n",
        "df_train_P = pd.get_dummies(df_train['Pclass'], prefix = 'Pclass')\n",
        "df_train = pd.concat([df_train,df_train_P],axis=1)\n",
        "df_train.head()"
      ],
      "metadata": {
        "id": "Oec_uI2OFiM8",
        "execution": {
          "iopub.status.busy": "2022-06-06T17:41:04.082682Z",
          "iopub.execute_input": "2022-06-06T17:41:04.083205Z",
          "iopub.status.idle": "2022-06-06T17:41:04.112926Z",
          "shell.execute_reply.started": "2022-06-06T17:41:04.083162Z",
          "shell.execute_reply": "2022-06-06T17:41:04.111700Z"
        },
        "trusted": true
      },
      "execution_count": null,
      "outputs": []
    },
    {
      "cell_type": "code",
      "source": [
        "df_test_P = pd.get_dummies(df_test['Pclass'], prefix = 'Pclass')\n",
        "df_test = pd.concat([df_test,df_test_P],axis=1)\n",
        "df_test.head()"
      ],
      "metadata": {
        "id": "owk5uuwsFvr5",
        "execution": {
          "iopub.status.busy": "2022-06-06T17:41:04.114680Z",
          "iopub.execute_input": "2022-06-06T17:41:04.115098Z",
          "iopub.status.idle": "2022-06-06T17:41:04.138103Z",
          "shell.execute_reply.started": "2022-06-06T17:41:04.115067Z",
          "shell.execute_reply": "2022-06-06T17:41:04.137074Z"
        },
        "trusted": true
      },
      "execution_count": null,
      "outputs": []
    },
    {
      "cell_type": "code",
      "source": [
        "df_train_A = pd.get_dummies(df_train['Age_binning'], prefix = 'Age_binning')\n",
        "df_train = pd.concat([df_train,df_train_A],axis=1)\n",
        "df_train.head()"
      ],
      "metadata": {
        "id": "N7Kp2n2hJAqx",
        "execution": {
          "iopub.status.busy": "2022-06-06T17:41:04.139555Z",
          "iopub.execute_input": "2022-06-06T17:41:04.140606Z",
          "iopub.status.idle": "2022-06-06T17:41:04.175700Z",
          "shell.execute_reply.started": "2022-06-06T17:41:04.140565Z",
          "shell.execute_reply": "2022-06-06T17:41:04.174835Z"
        },
        "trusted": true
      },
      "execution_count": null,
      "outputs": []
    },
    {
      "cell_type": "code",
      "source": [
        "df_test_A = pd.get_dummies(df_test['Age_binning'], prefix = 'Age_binning')\n",
        "df_test = pd.concat([df_test,df_test_A],axis=1)\n",
        "df_test.head()"
      ],
      "metadata": {
        "id": "G6IRg2zTIuoW",
        "execution": {
          "iopub.status.busy": "2022-06-06T17:41:04.177148Z",
          "iopub.execute_input": "2022-06-06T17:41:04.177783Z",
          "iopub.status.idle": "2022-06-06T17:41:04.205845Z",
          "shell.execute_reply.started": "2022-06-06T17:41:04.177746Z",
          "shell.execute_reply": "2022-06-06T17:41:04.204382Z"
        },
        "trusted": true
      },
      "execution_count": null,
      "outputs": []
    },
    {
      "cell_type": "code",
      "source": [
        "df_train_F = pd.get_dummies(df_train['FamilySize'], prefix = 'FamilySize')\n",
        "df_train = pd.concat([df_train,df_train_F],axis=1)\n",
        "df_train.head()"
      ],
      "metadata": {
        "id": "uT5qt-SDLfRb",
        "execution": {
          "iopub.status.busy": "2022-06-06T17:41:04.207951Z",
          "iopub.execute_input": "2022-06-06T17:41:04.208391Z",
          "iopub.status.idle": "2022-06-06T17:41:04.235864Z",
          "shell.execute_reply.started": "2022-06-06T17:41:04.208357Z",
          "shell.execute_reply": "2022-06-06T17:41:04.234762Z"
        },
        "trusted": true
      },
      "execution_count": null,
      "outputs": []
    },
    {
      "cell_type": "code",
      "source": [
        "df_test_F = pd.get_dummies(df_test['FamilySize'], prefix = 'FamilySize')\n",
        "df_test = pd.concat([df_test,df_test_F],axis=1)\n",
        "df_test.head()"
      ],
      "metadata": {
        "id": "MXf-1nsFLzKo",
        "execution": {
          "iopub.status.busy": "2022-06-06T17:41:04.237293Z",
          "iopub.execute_input": "2022-06-06T17:41:04.237690Z",
          "iopub.status.idle": "2022-06-06T17:41:04.268568Z",
          "shell.execute_reply.started": "2022-06-06T17:41:04.237657Z",
          "shell.execute_reply": "2022-06-06T17:41:04.267723Z"
        },
        "trusted": true
      },
      "execution_count": null,
      "outputs": []
    },
    {
      "cell_type": "code",
      "source": [
        "#필요없는 column 모두 drop\n",
        "df_train = df_train.drop('Age',axis=1)\n",
        "df_test = df_test.drop('Age',axis=1)\n",
        "df_train = df_train.drop('Age_binning',axis=1)\n",
        "df_test = df_test.drop('Age_binning',axis=1)\n",
        "df_train = df_train.drop('FamilySize',axis=1)\n",
        "df_test = df_test.drop('FamilySize',axis=1)\n",
        "df_train = df_train.drop(['Embarked'], axis=1)\n",
        "df_test = df_test.drop(['Embarked'], axis=1)\n",
        "df_train = df_train.drop(['Pclass'],axis=1)\n",
        "df_test = df_test.drop(['Pclass'],axis=1)\n",
        "df_train = df_train.drop(['Name'],axis=1)\n",
        "df_test = df_test.drop(['Name'],axis=1)\n",
        "df_train = df_train.drop(['SibSp'],axis=1)\n",
        "df_test = df_test.drop(['SibSp'],axis=1)\n",
        "df_train = df_train.drop(['Parch'],axis=1)\n",
        "df_test = df_test.drop(['Parch'],axis=1)\n",
        "df_train = df_train.drop(['PassengerId'],axis=1)\n",
        "df_test = df_test.drop(['PassengerId'],axis=1)\n"
      ],
      "metadata": {
        "id": "O07Y1T5I7QOT",
        "execution": {
          "iopub.status.busy": "2022-06-06T17:41:04.269795Z",
          "iopub.execute_input": "2022-06-06T17:41:04.270150Z",
          "iopub.status.idle": "2022-06-06T17:41:04.296679Z",
          "shell.execute_reply.started": "2022-06-06T17:41:04.270121Z",
          "shell.execute_reply": "2022-06-06T17:41:04.295753Z"
        },
        "trusted": true
      },
      "execution_count": null,
      "outputs": []
    },
    {
      "cell_type": "code",
      "source": [
        "df_train.head()"
      ],
      "metadata": {
        "id": "QDdg9xVcii5L",
        "execution": {
          "iopub.status.busy": "2022-06-06T17:41:04.297819Z",
          "iopub.execute_input": "2022-06-06T17:41:04.298544Z",
          "iopub.status.idle": "2022-06-06T17:41:04.323381Z",
          "shell.execute_reply.started": "2022-06-06T17:41:04.298495Z",
          "shell.execute_reply": "2022-06-06T17:41:04.321835Z"
        },
        "trusted": true
      },
      "execution_count": null,
      "outputs": []
    },
    {
      "cell_type": "code",
      "source": [
        "df_test.head()"
      ],
      "metadata": {
        "id": "P0gtwxts_RF6",
        "execution": {
          "iopub.status.busy": "2022-06-06T17:41:04.325638Z",
          "iopub.execute_input": "2022-06-06T17:41:04.326756Z",
          "iopub.status.idle": "2022-06-06T17:41:04.351830Z",
          "shell.execute_reply.started": "2022-06-06T17:41:04.326711Z",
          "shell.execute_reply": "2022-06-06T17:41:04.350635Z"
        },
        "trusted": true
      },
      "execution_count": null,
      "outputs": []
    },
    {
      "cell_type": "markdown",
      "source": [
        "# 10. Modeling"
      ],
      "metadata": {
        "id": "kfbF0ErXziST"
      }
    },
    {
      "cell_type": "code",
      "source": [
        "survived = df_train['Survived']\n",
        "print(survived)"
      ],
      "metadata": {
        "id": "ScVB_U4Az8kn",
        "execution": {
          "iopub.status.busy": "2022-06-06T17:41:04.353858Z",
          "iopub.execute_input": "2022-06-06T17:41:04.354362Z",
          "iopub.status.idle": "2022-06-06T17:41:04.363571Z",
          "shell.execute_reply.started": "2022-06-06T17:41:04.354313Z",
          "shell.execute_reply": "2022-06-06T17:41:04.362376Z"
        },
        "trusted": true
      },
      "execution_count": null,
      "outputs": []
    },
    {
      "cell_type": "code",
      "source": [
        "df_train = df_train.drop('Survived',axis=1)"
      ],
      "metadata": {
        "id": "PtQiCa0b0IGe",
        "execution": {
          "iopub.status.busy": "2022-06-06T17:41:04.364967Z",
          "iopub.execute_input": "2022-06-06T17:41:04.366257Z",
          "iopub.status.idle": "2022-06-06T17:41:04.380743Z",
          "shell.execute_reply.started": "2022-06-06T17:41:04.366204Z",
          "shell.execute_reply": "2022-06-06T17:41:04.379894Z"
        },
        "trusted": true
      },
      "execution_count": null,
      "outputs": []
    },
    {
      "cell_type": "markdown",
      "source": [
        "**10-1. DecisionTree**"
      ],
      "metadata": {
        "id": "OvlTT2dx7BXm"
      }
    },
    {
      "cell_type": "code",
      "source": [
        "from sklearn.tree import DecisionTreeClassifier\n",
        "\n",
        "clf = DecisionTreeClassifier(random_state=6, max_depth = 9, class_weight={0:5,1:1}) \n",
        "clf.fit(df_train, survived)\n",
        "print(clf.score(df_train, survived))\n",
        "clf_predict = clf.predict(df_test)"
      ],
      "metadata": {
        "id": "KyJnTIKX3OZP",
        "execution": {
          "iopub.status.busy": "2022-06-06T17:41:04.382875Z",
          "iopub.execute_input": "2022-06-06T17:41:04.383924Z",
          "iopub.status.idle": "2022-06-06T17:41:04.760799Z",
          "shell.execute_reply.started": "2022-06-06T17:41:04.383868Z",
          "shell.execute_reply": "2022-06-06T17:41:04.759393Z"
        },
        "trusted": true
      },
      "execution_count": null,
      "outputs": []
    },
    {
      "cell_type": "markdown",
      "source": [
        "**10-2. RandomForest**"
      ],
      "metadata": {
        "id": "uVOPEDET7BXm"
      }
    },
    {
      "cell_type": "code",
      "source": [
        "from sklearn.ensemble import RandomForestClassifier\n",
        "\n",
        "clf = RandomForestClassifier(random_state=6 ,class_weight={0:14,1:1}) \n",
        "clf.fit(df_train, survived)\n",
        "print(clf.score(df_train, survived))"
      ],
      "metadata": {
        "execution": {
          "iopub.status.busy": "2022-06-06T17:41:04.762197Z",
          "iopub.execute_input": "2022-06-06T17:41:04.762607Z",
          "iopub.status.idle": "2022-06-06T17:41:05.120829Z",
          "shell.execute_reply.started": "2022-06-06T17:41:04.762575Z",
          "shell.execute_reply": "2022-06-06T17:41:05.119323Z"
        },
        "trusted": true,
        "id": "Ku9S0_b87BXm"
      },
      "execution_count": null,
      "outputs": []
    },
    {
      "cell_type": "code",
      "source": [
        "submission = pd.DataFrame({\n",
        "    'PassengerId' : df_test1['PassengerId'],\n",
        "    'Survived' : clf_predict})\n",
        "\n",
        "submission.to_csv('submission.csv', index=False)"
      ],
      "metadata": {
        "id": "mkGZO4bKDrWW",
        "execution": {
          "iopub.status.busy": "2022-06-06T17:41:05.122791Z",
          "iopub.execute_input": "2022-06-06T17:41:05.124133Z",
          "iopub.status.idle": "2022-06-06T17:41:05.137699Z",
          "shell.execute_reply.started": "2022-06-06T17:41:05.124073Z",
          "shell.execute_reply": "2022-06-06T17:41:05.136187Z"
        },
        "trusted": true
      },
      "execution_count": null,
      "outputs": []
    },
    {
      "cell_type": "code",
      "source": [
        "submission = pd.read_csv(\"submission.csv\")\n",
        "submission.head()"
      ],
      "metadata": {
        "id": "NyHsoS6pDcBC",
        "execution": {
          "iopub.status.busy": "2022-06-06T17:41:05.139317Z",
          "iopub.execute_input": "2022-06-06T17:41:05.139838Z",
          "iopub.status.idle": "2022-06-06T17:41:05.154072Z",
          "shell.execute_reply.started": "2022-06-06T17:41:05.139801Z",
          "shell.execute_reply": "2022-06-06T17:41:05.152934Z"
        },
        "trusted": true
      },
      "execution_count": null,
      "outputs": []
    }
  ]
}